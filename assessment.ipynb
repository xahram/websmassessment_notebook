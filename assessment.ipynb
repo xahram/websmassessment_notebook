{
 "cells": [
  {
   "cell_type": "code",
   "execution_count": null,
   "metadata": {},
   "outputs": [],
   "source": [
    "from twython import Twython\n",
    "import json \n",
    "import csv\n",
    "\n",
    "\n",
    "credentials = {}\n",
    "credentials[\"API_KEY\"] = \"kfMHh8BuUXMCQ9S57eHlZPtp3\"\n",
    "credentials[\"API_SECRET\"] = \"YBBa1e6czkDK30KOpdMPN20QCWao2M8ONvCodfnH8gWW1AOXIu\"\n",
    "credentials[\"ACCESS_TOKEN\"] = \"1501925600105218050-lOCbvbbF4Ikoy9ublZQi4NAiGsAN84\"\n",
    "credentials[\"ACCESS_TOKEN_SECRET\"] = \"cS5qbsBa9IvF6ORoKs6UZtGz5KbLe0nY9lINwWGeK35ao\"\n",
    "\n",
    "\n",
    "with open(\"credentials.json\", \"w\") as file:\n",
    "    json.dump(credentials, file)\n",
    "\n",
    "\n",
    "\n",
    "\n",
    "\n",
    "\n"
   ]
  },
  {
   "cell_type": "code",
   "execution_count": null,
   "metadata": {},
   "outputs": [],
   "source": [
    "results = twitter.search(q=\"Jungkook\")\n",
    "r = results[\"statuses\"][0]\n",
    "\n",
    "with open(\"sample.json\", \"w\") as file:\n",
    "    json.dump(r,file)\n",
    "\n",
    "results"
   ]
  },
  {
   "cell_type": "code",
   "execution_count": 3,
   "metadata": {},
   "outputs": [
    {
     "ename": "NameError",
     "evalue": "name 'csv' is not defined",
     "output_type": "error",
     "traceback": [
      "\u001b[1;31m---------------------------------------------------------------------------\u001b[0m",
      "\u001b[1;31mNameError\u001b[0m                                 Traceback (most recent call last)",
      "\u001b[1;32mc:\\Users\\usama\\Desktop\\BCU\\Projects\\Firstpython\\BCU\\WebSmAnalytics\\assessment2\\assessment.ipynb Cell 3'\u001b[0m in \u001b[0;36m<module>\u001b[1;34m\u001b[0m\n\u001b[0;32m     <a href='vscode-notebook-cell:/c%3A/Users/usama/Desktop/BCU/Projects/Firstpython/BCU/WebSmAnalytics/assessment2/assessment.ipynb#ch0000002?line=55'>56</a>\u001b[0m twitter_util \u001b[39m=\u001b[39m Twitter_Utility()\n\u001b[0;32m     <a href='vscode-notebook-cell:/c%3A/Users/usama/Desktop/BCU/Projects/Firstpython/BCU/WebSmAnalytics/assessment2/assessment.ipynb#ch0000002?line=56'>57</a>\u001b[0m twitter_util\u001b[39m.\u001b[39msearch_tweet(\u001b[39m\"\u001b[39m\u001b[39mUkraine\u001b[39m\u001b[39m\"\u001b[39m, count\u001b[39m=\u001b[39m\u001b[39m100\u001b[39m)\n\u001b[1;32m---> <a href='vscode-notebook-cell:/c%3A/Users/usama/Desktop/BCU/Projects/Firstpython/BCU/WebSmAnalytics/assessment2/assessment.ipynb#ch0000002?line=57'>58</a>\u001b[0m twitter_util\u001b[39m.\u001b[39;49msave_tweets()\n",
      "\u001b[1;32mc:\\Users\\usama\\Desktop\\BCU\\Projects\\Firstpython\\BCU\\WebSmAnalytics\\assessment2\\assessment.ipynb Cell 3'\u001b[0m in \u001b[0;36mTwitter_Utility.save_tweets\u001b[1;34m(self)\u001b[0m\n\u001b[0;32m     <a href='vscode-notebook-cell:/c%3A/Users/usama/Desktop/BCU/Projects/Firstpython/BCU/WebSmAnalytics/assessment2/assessment.ipynb#ch0000002?line=45'>46</a>\u001b[0m \u001b[39mdef\u001b[39;00m \u001b[39msave_tweets\u001b[39m(\u001b[39mself\u001b[39m):\n\u001b[0;32m     <a href='vscode-notebook-cell:/c%3A/Users/usama/Desktop/BCU/Projects/Firstpython/BCU/WebSmAnalytics/assessment2/assessment.ipynb#ch0000002?line=46'>47</a>\u001b[0m     \u001b[39mif\u001b[39;00m \u001b[39mself\u001b[39m\u001b[39m.\u001b[39mresults\u001b[39m.\u001b[39mget(\u001b[39m\"\u001b[39m\u001b[39mstatuses\u001b[39m\u001b[39m\"\u001b[39m):\n\u001b[1;32m---> <a href='vscode-notebook-cell:/c%3A/Users/usama/Desktop/BCU/Projects/Firstpython/BCU/WebSmAnalytics/assessment2/assessment.ipynb#ch0000002?line=47'>48</a>\u001b[0m             \u001b[39mself\u001b[39;49m\u001b[39m.\u001b[39;49mcsv_set_header(\u001b[39mself\u001b[39;49m\u001b[39m.\u001b[39;49mresults[\u001b[39m\"\u001b[39;49m\u001b[39mstatuses\u001b[39;49m\u001b[39m\"\u001b[39;49m][\u001b[39m0\u001b[39;49m])\n\u001b[0;32m     <a href='vscode-notebook-cell:/c%3A/Users/usama/Desktop/BCU/Projects/Firstpython/BCU/WebSmAnalytics/assessment2/assessment.ipynb#ch0000002?line=48'>49</a>\u001b[0m             \u001b[39mfor\u001b[39;00m result \u001b[39min\u001b[39;00m \u001b[39mself\u001b[39m\u001b[39m.\u001b[39mresults[\u001b[39m\"\u001b[39m\u001b[39mstatuses\u001b[39m\u001b[39m\"\u001b[39m]:\n\u001b[0;32m     <a href='vscode-notebook-cell:/c%3A/Users/usama/Desktop/BCU/Projects/Firstpython/BCU/WebSmAnalytics/assessment2/assessment.ipynb#ch0000002?line=49'>50</a>\u001b[0m                 tweet \u001b[39m=\u001b[39m \u001b[39mself\u001b[39m\u001b[39m.\u001b[39mprocess_tweet(result) \n",
      "\u001b[1;32mc:\\Users\\usama\\Desktop\\BCU\\Projects\\Firstpython\\BCU\\WebSmAnalytics\\assessment2\\assessment.ipynb Cell 3'\u001b[0m in \u001b[0;36mTwitter_Utility.csv_set_header\u001b[1;34m(self, tweet)\u001b[0m\n\u001b[0;32m     <a href='vscode-notebook-cell:/c%3A/Users/usama/Desktop/BCU/Projects/Firstpython/BCU/WebSmAnalytics/assessment2/assessment.ipynb#ch0000002?line=28'>29</a>\u001b[0m \u001b[39mwith\u001b[39;00m \u001b[39mopen\u001b[39m(\u001b[39m\"\u001b[39m\u001b[39msaved_tweets.csv\u001b[39m\u001b[39m\"\u001b[39m, \u001b[39m\"\u001b[39m\u001b[39ma\u001b[39m\u001b[39m\"\u001b[39m, encoding\u001b[39m=\u001b[39m\u001b[39m\"\u001b[39m\u001b[39mutf-8\u001b[39m\u001b[39m\"\u001b[39m,newline\u001b[39m=\u001b[39m\u001b[39m\"\u001b[39m\u001b[39m\"\u001b[39m) \u001b[39mas\u001b[39;00m file:\n\u001b[0;32m     <a href='vscode-notebook-cell:/c%3A/Users/usama/Desktop/BCU/Projects/Firstpython/BCU/WebSmAnalytics/assessment2/assessment.ipynb#ch0000002?line=29'>30</a>\u001b[0m    header \u001b[39m=\u001b[39m [key \u001b[39mfor\u001b[39;00m key \u001b[39min\u001b[39;00m \u001b[39mself\u001b[39m\u001b[39m.\u001b[39mprocess_tweet(tweet)]\n\u001b[1;32m---> <a href='vscode-notebook-cell:/c%3A/Users/usama/Desktop/BCU/Projects/Firstpython/BCU/WebSmAnalytics/assessment2/assessment.ipynb#ch0000002?line=30'>31</a>\u001b[0m    csv_writer \u001b[39m=\u001b[39m csv\u001b[39m.\u001b[39mwriter(file)\n\u001b[0;32m     <a href='vscode-notebook-cell:/c%3A/Users/usama/Desktop/BCU/Projects/Firstpython/BCU/WebSmAnalytics/assessment2/assessment.ipynb#ch0000002?line=31'>32</a>\u001b[0m    csv_writer\u001b[39m.\u001b[39mwriterow(header)\n",
      "\u001b[1;31mNameError\u001b[0m: name 'csv' is not defined"
     ]
    }
   ],
   "source": [
    "from twython import Twython\n",
    "import json\n",
    "\n",
    "credentials = {}\n",
    "with open(\"credentials.json\", \"r\") as file:\n",
    "    credentials = json.load(file)\n",
    "\n",
    "twitter = Twython(app_key=credentials[\"API_KEY\"],\n",
    "                 app_secret=credentials[\"API_SECRET\"], \n",
    "                 oauth_token=credentials[\"ACCESS_TOKEN\"],\n",
    "                 oauth_token_secret=credentials[\"ACCESS_TOKEN_SECRET\"])\n",
    "\n",
    "\n",
    "class Twitter_Utility:\n",
    "\n",
    "    def __init__(self):\n",
    "        self.results = {}\n",
    "\n",
    "    def process_tweet(self, data):\n",
    "        tweet = {}\n",
    "        tweet[\"location\"] = data[\"user\"][\"location\"]\n",
    "        tweet[\"text\"] = data[\"text\"]\n",
    "        tweet[\"client_platform\"] = data[\"source\"]\n",
    "        tweet[\"hashtags\"] = [hashtag[\"text\"] for hashtag in data[\"entities\"][\"hashtags\"]]\n",
    "        return tweet\n",
    "\n",
    "\n",
    "    def csv_set_header(self, tweet):\n",
    "         with open(\"saved_tweets.csv\", \"a\", encoding=\"utf-8\",newline=\"\") as file:\n",
    "            header = [key for key in self.process_tweet(tweet)]\n",
    "            csv_writer = csv.writer(file)\n",
    "            csv_writer.writerow(header)\n",
    "        \n",
    "    def save_to_csv(self, tweet):\n",
    "        with open(\"saved_tweets.csv\", \"a\", encoding=\"utf-8\", newline=\"\") as file:\n",
    "            csv_writer = csv.writer(file)\n",
    "            tweet_content = [tweet[key] for key in tweet]\n",
    "            csv_writer.writerow(tweet_content)\n",
    "\n",
    "\n",
    "    def search_tweet(self, search_query,count):\n",
    "        results = twitter.search(q=search_query, count= count)   \n",
    "        self.results = results  \n",
    "        \n",
    "    \n",
    "    def save_tweets(self):\n",
    "        if self.results.get(\"statuses\"):\n",
    "                self.csv_set_header(self.results[\"statuses\"][0])\n",
    "                for result in self.results[\"statuses\"]:\n",
    "                    tweet = self.process_tweet(result) \n",
    "                    self.save_to_csv(tweet)\n",
    "\n",
    "\n",
    "\n",
    "\n",
    "twitter_util = Twitter_Utility()\n",
    "twitter_util.search_tweet(\"Ukraine\", count=100)\n",
    "twitter_util.save_tweets()"
   ]
  },
  {
   "cell_type": "code",
   "execution_count": null,
   "metadata": {},
   "outputs": [],
   "source": []
  }
 ],
 "metadata": {
  "interpreter": {
   "hash": "2edc8d72492fce6da8c9f093076faead55b47d1ae243b1a3a4b5a0eb61a5ea42"
  },
  "kernelspec": {
   "display_name": "Python 3.9.7 ('venv': venv)",
   "language": "python",
   "name": "python3"
  },
  "language_info": {
   "codemirror_mode": {
    "name": "ipython",
    "version": 3
   },
   "file_extension": ".py",
   "mimetype": "text/x-python",
   "name": "python",
   "nbconvert_exporter": "python",
   "pygments_lexer": "ipython3",
   "version": "3.9.7"
  },
  "orig_nbformat": 4
 },
 "nbformat": 4,
 "nbformat_minor": 2
}
